{
 "cells": [
  {
   "cell_type": "code",
   "execution_count": 276,
   "id": "e967d0f3",
   "metadata": {},
   "outputs": [],
   "source": [
    "# 데이터 불러오기\n",
    "import pandas as pd\n",
    "train_data = pd.read_csv('C:/Users/bhw11/titanic/titanic/train.csv')\n",
    "test_data =  pd.read_csv('C:/Users/bhw11/titanic/titanic/test.csv')"
   ]
  },
  {
   "cell_type": "markdown",
   "id": "b9c3f44c",
   "metadata": {},
   "source": [
    "#### 각 Feature에 대한 공식문서\n",
    "- PassangerId / 승객에 대한 고유한 번호\n",
    "- Survived  0= No 1= Yes\n",
    "- Pclass(클래스) 1 = 1등석 2 = 2등석 3 = 3등석\n",
    "- name 이름\n",
    "- sex 성별\n",
    "- Age 나이\n",
    "- SibSp 형제/배우자 수(타이타닉호에 탑승한)\n",
    "- Parch 부모/자녀 수(타이타닉호에 탑승한) \n",
    "- Ticket 티켓 번호\n",
    "- Fare 티켓 금액\n",
    "- Cabin 호실 번호\n",
    "- Embarked 탑승한 항구 (C = Cherbourg, Q = Queenstown, S = Southampton)"
   ]
  },
  {
   "cell_type": "code",
   "execution_count": 277,
   "id": "13f19e28",
   "metadata": {},
   "outputs": [
    {
     "name": "stdout",
     "output_type": "stream",
     "text": [
      "(891, 12)\n",
      "(418, 11)\n"
     ]
    }
   ],
   "source": [
    "# 데이터 살펴보기\n",
    "print(train_data.shape) #(891,12)\n",
    "print(test_data.shape) #(418,11)"
   ]
  },
  {
   "cell_type": "code",
   "execution_count": 278,
   "id": "40cfc311",
   "metadata": {},
   "outputs": [
    {
     "name": "stdout",
     "output_type": "stream",
     "text": [
      "<class 'pandas.core.frame.DataFrame'>\n",
      "RangeIndex: 891 entries, 0 to 890\n",
      "Data columns (total 12 columns):\n",
      " #   Column       Non-Null Count  Dtype  \n",
      "---  ------       --------------  -----  \n",
      " 0   PassengerId  891 non-null    int64  \n",
      " 1   Survived     891 non-null    int64  \n",
      " 2   Pclass       891 non-null    int64  \n",
      " 3   Name         891 non-null    object \n",
      " 4   Sex          891 non-null    object \n",
      " 5   Age          714 non-null    float64\n",
      " 6   SibSp        891 non-null    int64  \n",
      " 7   Parch        891 non-null    int64  \n",
      " 8   Ticket       891 non-null    object \n",
      " 9   Fare         891 non-null    float64\n",
      " 10  Cabin        204 non-null    object \n",
      " 11  Embarked     889 non-null    object \n",
      "dtypes: float64(2), int64(5), object(5)\n",
      "memory usage: 83.7+ KB\n",
      "<class 'pandas.core.frame.DataFrame'>\n",
      "RangeIndex: 418 entries, 0 to 417\n",
      "Data columns (total 11 columns):\n",
      " #   Column       Non-Null Count  Dtype  \n",
      "---  ------       --------------  -----  \n",
      " 0   PassengerId  418 non-null    int64  \n",
      " 1   Pclass       418 non-null    int64  \n",
      " 2   Name         418 non-null    object \n",
      " 3   Sex          418 non-null    object \n",
      " 4   Age          332 non-null    float64\n",
      " 5   SibSp        418 non-null    int64  \n",
      " 6   Parch        418 non-null    int64  \n",
      " 7   Ticket       418 non-null    object \n",
      " 8   Fare         417 non-null    float64\n",
      " 9   Cabin        91 non-null     object \n",
      " 10  Embarked     418 non-null    object \n",
      "dtypes: float64(2), int64(4), object(5)\n",
      "memory usage: 36.1+ KB\n"
     ]
    }
   ],
   "source": [
    "train_data.info()\n",
    "test_data.info()"
   ]
  },
  {
   "cell_type": "code",
   "execution_count": 279,
   "id": "c4f81755",
   "metadata": {},
   "outputs": [
    {
     "data": {
      "text/html": [
       "<div>\n",
       "<style scoped>\n",
       "    .dataframe tbody tr th:only-of-type {\n",
       "        vertical-align: middle;\n",
       "    }\n",
       "\n",
       "    .dataframe tbody tr th {\n",
       "        vertical-align: top;\n",
       "    }\n",
       "\n",
       "    .dataframe thead th {\n",
       "        text-align: right;\n",
       "    }\n",
       "</style>\n",
       "<table border=\"1\" class=\"dataframe\">\n",
       "  <thead>\n",
       "    <tr style=\"text-align: right;\">\n",
       "      <th></th>\n",
       "      <th>PassengerId</th>\n",
       "      <th>Survived</th>\n",
       "      <th>Pclass</th>\n",
       "      <th>Name</th>\n",
       "      <th>Sex</th>\n",
       "      <th>Age</th>\n",
       "      <th>SibSp</th>\n",
       "      <th>Parch</th>\n",
       "      <th>Ticket</th>\n",
       "      <th>Fare</th>\n",
       "      <th>Cabin</th>\n",
       "      <th>Embarked</th>\n",
       "    </tr>\n",
       "  </thead>\n",
       "  <tbody>\n",
       "    <tr>\n",
       "      <th>0</th>\n",
       "      <td>1</td>\n",
       "      <td>0</td>\n",
       "      <td>3</td>\n",
       "      <td>Braund, Mr. Owen Harris</td>\n",
       "      <td>male</td>\n",
       "      <td>22.0</td>\n",
       "      <td>1</td>\n",
       "      <td>0</td>\n",
       "      <td>A/5 21171</td>\n",
       "      <td>7.2500</td>\n",
       "      <td>NaN</td>\n",
       "      <td>S</td>\n",
       "    </tr>\n",
       "    <tr>\n",
       "      <th>1</th>\n",
       "      <td>2</td>\n",
       "      <td>1</td>\n",
       "      <td>1</td>\n",
       "      <td>Cumings, Mrs. John Bradley (Florence Briggs Th...</td>\n",
       "      <td>female</td>\n",
       "      <td>38.0</td>\n",
       "      <td>1</td>\n",
       "      <td>0</td>\n",
       "      <td>PC 17599</td>\n",
       "      <td>71.2833</td>\n",
       "      <td>C85</td>\n",
       "      <td>C</td>\n",
       "    </tr>\n",
       "    <tr>\n",
       "      <th>2</th>\n",
       "      <td>3</td>\n",
       "      <td>1</td>\n",
       "      <td>3</td>\n",
       "      <td>Heikkinen, Miss. Laina</td>\n",
       "      <td>female</td>\n",
       "      <td>26.0</td>\n",
       "      <td>0</td>\n",
       "      <td>0</td>\n",
       "      <td>STON/O2. 3101282</td>\n",
       "      <td>7.9250</td>\n",
       "      <td>NaN</td>\n",
       "      <td>S</td>\n",
       "    </tr>\n",
       "    <tr>\n",
       "      <th>3</th>\n",
       "      <td>4</td>\n",
       "      <td>1</td>\n",
       "      <td>1</td>\n",
       "      <td>Futrelle, Mrs. Jacques Heath (Lily May Peel)</td>\n",
       "      <td>female</td>\n",
       "      <td>35.0</td>\n",
       "      <td>1</td>\n",
       "      <td>0</td>\n",
       "      <td>113803</td>\n",
       "      <td>53.1000</td>\n",
       "      <td>C123</td>\n",
       "      <td>S</td>\n",
       "    </tr>\n",
       "    <tr>\n",
       "      <th>4</th>\n",
       "      <td>5</td>\n",
       "      <td>0</td>\n",
       "      <td>3</td>\n",
       "      <td>Allen, Mr. William Henry</td>\n",
       "      <td>male</td>\n",
       "      <td>35.0</td>\n",
       "      <td>0</td>\n",
       "      <td>0</td>\n",
       "      <td>373450</td>\n",
       "      <td>8.0500</td>\n",
       "      <td>NaN</td>\n",
       "      <td>S</td>\n",
       "    </tr>\n",
       "  </tbody>\n",
       "</table>\n",
       "</div>"
      ],
      "text/plain": [
       "   PassengerId  Survived  Pclass   \n",
       "0            1         0       3  \\\n",
       "1            2         1       1   \n",
       "2            3         1       3   \n",
       "3            4         1       1   \n",
       "4            5         0       3   \n",
       "\n",
       "                                                Name     Sex   Age  SibSp   \n",
       "0                            Braund, Mr. Owen Harris    male  22.0      1  \\\n",
       "1  Cumings, Mrs. John Bradley (Florence Briggs Th...  female  38.0      1   \n",
       "2                             Heikkinen, Miss. Laina  female  26.0      0   \n",
       "3       Futrelle, Mrs. Jacques Heath (Lily May Peel)  female  35.0      1   \n",
       "4                           Allen, Mr. William Henry    male  35.0      0   \n",
       "\n",
       "   Parch            Ticket     Fare Cabin Embarked  \n",
       "0      0         A/5 21171   7.2500   NaN        S  \n",
       "1      0          PC 17599  71.2833   C85        C  \n",
       "2      0  STON/O2. 3101282   7.9250   NaN        S  \n",
       "3      0            113803  53.1000  C123        S  \n",
       "4      0            373450   8.0500   NaN        S  "
      ]
     },
     "execution_count": 279,
     "metadata": {},
     "output_type": "execute_result"
    }
   ],
   "source": [
    "train_data.head()"
   ]
  },
  {
   "cell_type": "code",
   "execution_count": 280,
   "id": "aaa409db",
   "metadata": {},
   "outputs": [
    {
     "data": {
      "text/html": [
       "<div>\n",
       "<style scoped>\n",
       "    .dataframe tbody tr th:only-of-type {\n",
       "        vertical-align: middle;\n",
       "    }\n",
       "\n",
       "    .dataframe tbody tr th {\n",
       "        vertical-align: top;\n",
       "    }\n",
       "\n",
       "    .dataframe thead th {\n",
       "        text-align: right;\n",
       "    }\n",
       "</style>\n",
       "<table border=\"1\" class=\"dataframe\">\n",
       "  <thead>\n",
       "    <tr style=\"text-align: right;\">\n",
       "      <th></th>\n",
       "      <th>PassengerId</th>\n",
       "      <th>Pclass</th>\n",
       "      <th>Name</th>\n",
       "      <th>Sex</th>\n",
       "      <th>Age</th>\n",
       "      <th>SibSp</th>\n",
       "      <th>Parch</th>\n",
       "      <th>Ticket</th>\n",
       "      <th>Fare</th>\n",
       "      <th>Cabin</th>\n",
       "      <th>Embarked</th>\n",
       "    </tr>\n",
       "  </thead>\n",
       "  <tbody>\n",
       "    <tr>\n",
       "      <th>0</th>\n",
       "      <td>892</td>\n",
       "      <td>3</td>\n",
       "      <td>Kelly, Mr. James</td>\n",
       "      <td>male</td>\n",
       "      <td>34.5</td>\n",
       "      <td>0</td>\n",
       "      <td>0</td>\n",
       "      <td>330911</td>\n",
       "      <td>7.8292</td>\n",
       "      <td>NaN</td>\n",
       "      <td>Q</td>\n",
       "    </tr>\n",
       "    <tr>\n",
       "      <th>1</th>\n",
       "      <td>893</td>\n",
       "      <td>3</td>\n",
       "      <td>Wilkes, Mrs. James (Ellen Needs)</td>\n",
       "      <td>female</td>\n",
       "      <td>47.0</td>\n",
       "      <td>1</td>\n",
       "      <td>0</td>\n",
       "      <td>363272</td>\n",
       "      <td>7.0000</td>\n",
       "      <td>NaN</td>\n",
       "      <td>S</td>\n",
       "    </tr>\n",
       "    <tr>\n",
       "      <th>2</th>\n",
       "      <td>894</td>\n",
       "      <td>2</td>\n",
       "      <td>Myles, Mr. Thomas Francis</td>\n",
       "      <td>male</td>\n",
       "      <td>62.0</td>\n",
       "      <td>0</td>\n",
       "      <td>0</td>\n",
       "      <td>240276</td>\n",
       "      <td>9.6875</td>\n",
       "      <td>NaN</td>\n",
       "      <td>Q</td>\n",
       "    </tr>\n",
       "    <tr>\n",
       "      <th>3</th>\n",
       "      <td>895</td>\n",
       "      <td>3</td>\n",
       "      <td>Wirz, Mr. Albert</td>\n",
       "      <td>male</td>\n",
       "      <td>27.0</td>\n",
       "      <td>0</td>\n",
       "      <td>0</td>\n",
       "      <td>315154</td>\n",
       "      <td>8.6625</td>\n",
       "      <td>NaN</td>\n",
       "      <td>S</td>\n",
       "    </tr>\n",
       "    <tr>\n",
       "      <th>4</th>\n",
       "      <td>896</td>\n",
       "      <td>3</td>\n",
       "      <td>Hirvonen, Mrs. Alexander (Helga E Lindqvist)</td>\n",
       "      <td>female</td>\n",
       "      <td>22.0</td>\n",
       "      <td>1</td>\n",
       "      <td>1</td>\n",
       "      <td>3101298</td>\n",
       "      <td>12.2875</td>\n",
       "      <td>NaN</td>\n",
       "      <td>S</td>\n",
       "    </tr>\n",
       "  </tbody>\n",
       "</table>\n",
       "</div>"
      ],
      "text/plain": [
       "   PassengerId  Pclass                                          Name     Sex   \n",
       "0          892       3                              Kelly, Mr. James    male  \\\n",
       "1          893       3              Wilkes, Mrs. James (Ellen Needs)  female   \n",
       "2          894       2                     Myles, Mr. Thomas Francis    male   \n",
       "3          895       3                              Wirz, Mr. Albert    male   \n",
       "4          896       3  Hirvonen, Mrs. Alexander (Helga E Lindqvist)  female   \n",
       "\n",
       "    Age  SibSp  Parch   Ticket     Fare Cabin Embarked  \n",
       "0  34.5      0      0   330911   7.8292   NaN        Q  \n",
       "1  47.0      1      0   363272   7.0000   NaN        S  \n",
       "2  62.0      0      0   240276   9.6875   NaN        Q  \n",
       "3  27.0      0      0   315154   8.6625   NaN        S  \n",
       "4  22.0      1      1  3101298  12.2875   NaN        S  "
      ]
     },
     "execution_count": 280,
     "metadata": {},
     "output_type": "execute_result"
    }
   ],
   "source": [
    "test_data.head()"
   ]
  },
  {
   "cell_type": "code",
   "execution_count": 281,
   "id": "f8d37e0a",
   "metadata": {},
   "outputs": [
    {
     "data": {
      "text/plain": [
       "PassengerId      0\n",
       "Survived         0\n",
       "Pclass           0\n",
       "Name             0\n",
       "Sex              0\n",
       "Age            177\n",
       "SibSp            0\n",
       "Parch            0\n",
       "Ticket           0\n",
       "Fare             0\n",
       "Cabin          687\n",
       "Embarked         2\n",
       "dtype: int64"
      ]
     },
     "execution_count": 281,
     "metadata": {},
     "output_type": "execute_result"
    }
   ],
   "source": [
    "# 결측치 확인\n",
    "train_data.isnull().sum()"
   ]
  },
  {
   "cell_type": "code",
   "execution_count": 282,
   "id": "2df72fe3",
   "metadata": {},
   "outputs": [
    {
     "data": {
      "text/plain": [
       "PassengerId      0\n",
       "Pclass           0\n",
       "Name             0\n",
       "Sex              0\n",
       "Age             86\n",
       "SibSp            0\n",
       "Parch            0\n",
       "Ticket           0\n",
       "Fare             1\n",
       "Cabin          327\n",
       "Embarked         0\n",
       "dtype: int64"
      ]
     },
     "execution_count": 282,
     "metadata": {},
     "output_type": "execute_result"
    }
   ],
   "source": [
    "test_data.isnull().sum()"
   ]
  },
  {
   "cell_type": "code",
   "execution_count": 283,
   "id": "7c4001f9",
   "metadata": {},
   "outputs": [
    {
     "data": {
      "text/plain": [
       "<Axes: xlabel='Age', ylabel='Count'>"
      ]
     },
     "execution_count": 283,
     "metadata": {},
     "output_type": "execute_result"
    },
    {
     "data": {
      "image/png": "[encoded data removed]",
      "text/plain": [
       "<Figure size 640x480 with 1 Axes>"
      ]
     },
     "metadata": {},
     "output_type": "display_data"
    }
   ],
   "source": [
    "from matplotlib import font_manager, rc\n",
    "font_name = font_manager.FontProperties(fname=\"c:/Windows/Fonts/malgun.ttf\").get_name()\n",
    "rc('font', family=font_name)\n",
    "import seaborn as sns\n",
    "\n",
    "import matplotlib.pyplot as plt\n",
    "# 결측치가 있는 데이터 우선 분석하기\n",
    "# 나이의 분포(히스토그램)\n",
    "sns.histplot(train_data['Age'], bins = 30, kde =True)\n",
    "\n"
   ]
  },
  {
   "cell_type": "code",
   "execution_count": 284,
   "id": "8d098887",
   "metadata": {},
   "outputs": [],
   "source": [
    "# 생존률에 영향이 없는 것으로 예상되는 데이터 삭제\n",
    "df_train = train_data.drop(['PassengerId', 'Name', 'Ticket', 'Cabin'], axis = 1)\n",
    "df_test = test_data.drop(['PassengerId', 'Name', 'Ticket', 'Cabin'], axis = 1)"
   ]
  },
  {
   "cell_type": "code",
   "execution_count": 285,
   "id": "cd6a4dc7",
   "metadata": {},
   "outputs": [],
   "source": [
    "# male을 0으로, female을 1로 변환\n",
    "df_train['Sex'] = df_train['Sex'].replace({'male': 0, 'female': 1})\n",
    "df_test['Sex'] = df_test['Sex'].replace({'male': 0, 'female': 1})\n",
    "\n",
    "import pandas as pd\n",
    "\n",
    "df_train['Embarked'] = df_train['Embarked'].replace({'Q': 0, 'S': 1, 'C': 2 })\n",
    "df_test['Embarked'] = df_test['Embarked'].replace({'Q': 0, 'S': 1, 'C': 2 })"
   ]
  },
  {
   "cell_type": "code",
   "execution_count": 286,
   "id": "82096a8c",
   "metadata": {},
   "outputs": [
    {
     "name": "stdout",
     "output_type": "stream",
     "text": [
      "Survived   -0.077221\n",
      "Pclass     -0.369226\n",
      "Sex        -0.093254\n",
      "Age         1.000000\n",
      "SibSp      -0.308247\n",
      "Parch      -0.189119\n",
      "Fare        0.096067\n",
      "Embarked    0.042340\n",
      "Name: Age, dtype: float64\n"
     ]
    }
   ],
   "source": [
    "# 나이와 다른 feature들 간의 상관 관계 계산\n",
    "correlation_matrix = df_train.corr()\n",
    "\n",
    "# 나이와 다른 feature들 간의 상관 관계 출력\n",
    "print(correlation_matrix['Age'])"
   ]
  },
  {
   "cell_type": "code",
   "execution_count": 287,
   "id": "e01eebb5",
   "metadata": {},
   "outputs": [
    {
     "data": {
      "text/plain": [
       "array([1, 0, 3, 4, 2, 5, 8], dtype=int64)"
      ]
     },
     "execution_count": 287,
     "metadata": {},
     "output_type": "execute_result"
    }
   ],
   "source": [
    "df_train['SibSp'].unique()"
   ]
  },
  {
   "cell_type": "code",
   "execution_count": 288,
   "id": "3dc0f923",
   "metadata": {},
   "outputs": [
    {
     "data": {
      "text/plain": [
       "array([22.  , 38.  , 26.  , 35.  ,   nan, 54.  ,  2.  , 27.  , 14.  ,\n",
       "        4.  , 58.  , 20.  , 39.  , 55.  , 31.  , 34.  , 15.  , 28.  ,\n",
       "        8.  , 19.  , 40.  , 66.  , 42.  , 21.  , 18.  ,  3.  ,  7.  ,\n",
       "       49.  , 29.  , 65.  , 28.5 ,  5.  , 11.  , 45.  , 17.  , 32.  ,\n",
       "       16.  , 25.  ,  0.83, 30.  , 33.  , 23.  , 24.  , 46.  , 59.  ,\n",
       "       71.  , 37.  , 47.  , 14.5 , 70.5 , 32.5 , 12.  ,  9.  , 36.5 ,\n",
       "       51.  , 55.5 , 40.5 , 44.  ,  1.  , 61.  , 56.  , 50.  , 36.  ,\n",
       "       45.5 , 20.5 , 62.  , 41.  , 52.  , 63.  , 23.5 ,  0.92, 43.  ,\n",
       "       60.  , 10.  , 64.  , 13.  , 48.  ,  0.75, 53.  , 57.  , 80.  ,\n",
       "       70.  , 24.5 ,  6.  ,  0.67, 30.5 ,  0.42, 34.5 , 74.  ])"
      ]
     },
     "execution_count": 288,
     "metadata": {},
     "output_type": "execute_result"
    }
   ],
   "source": [
    "df_train['Age'].unique()"
   ]
  },
  {
   "cell_type": "code",
   "execution_count": 289,
   "id": "08f2568d",
   "metadata": {},
   "outputs": [],
   "source": [
    "import numpy as np\n",
    "\n",
    "# 관련이 높은 Pclass와 SibSp를 기반으로 나이 결측치 채워넣기\n",
    "average_age = df_train.groupby(['Pclass', 'SibSp'])['Age'].mean()\n",
    "\n",
    "# 각각의 평균을 반올림한 후 정수로 변환하여 채워넣기\n",
    "for idx, age in average_age.items():\n",
    "    if not np.isnan(age):\n",
    "        # 해당 그룹의 평균 나이를 반올림하고 정수로 변환하여 결측치를 채웁니다.\n",
    "        filled_age = int(round(age))\n",
    "        \n",
    "        # 결측치를 채워넣을 조건을 만족하는 행을 찾아 'Age' 열 값을 채웁니다.\n",
    "        condition = (df_train['Pclass'] == idx[0]) & (df_train['SibSp'] == idx[1]) & (df_train['Age'].isnull())\n",
    "        df_train.loc[condition, 'Age'] = filled_age"
   ]
  },
  {
   "cell_type": "code",
   "execution_count": 290,
   "id": "c69d80a2",
   "metadata": {},
   "outputs": [
    {
     "data": {
      "text/plain": [
       "Survived    0\n",
       "Pclass      0\n",
       "Sex         0\n",
       "Age         7\n",
       "SibSp       0\n",
       "Parch       0\n",
       "Fare        0\n",
       "Embarked    2\n",
       "dtype: int64"
      ]
     },
     "execution_count": 290,
     "metadata": {},
     "output_type": "execute_result"
    }
   ],
   "source": [
    "df_train.isnull().sum()"
   ]
  },
  {
   "cell_type": "code",
   "execution_count": 291,
   "id": "46ed9a11",
   "metadata": {},
   "outputs": [],
   "source": [
    "# 나머지 Age 열의 결측치는 7개밖에 되지 않으므로 평균으로 채우기\n",
    "mean_age = df_train['Age'].mean()  # 훈련 데이터의 Age 열의 평균값 계산\n",
    "\n",
    "# 결측치를 평균값으로 채움\n",
    "df_train['Age'].fillna(mean_age, inplace=True)\n",
    "# 결측치를 평균값으로 채운 후 정수로 변환하여 채워넣기\n",
    "df_train['Age'] = df_train['Age'].apply(lambda x: int(round(x)))\n",
    "# 테스트 데이터에도 동일하게 적용\n",
    "df_test['Age'].fillna(mean_age, inplace=True)\n",
    "df_test['Age'] = df_test['Age'].apply(lambda x: int(round(x)))"
   ]
  },
  {
   "cell_type": "code",
   "execution_count": 292,
   "id": "0e17d0dc",
   "metadata": {},
   "outputs": [
    {
     "data": {
      "text/plain": [
       "Survived    0\n",
       "Pclass      0\n",
       "Sex         0\n",
       "Age         0\n",
       "SibSp       0\n",
       "Parch       0\n",
       "Fare        0\n",
       "Embarked    2\n",
       "dtype: int64"
      ]
     },
     "execution_count": 292,
     "metadata": {},
     "output_type": "execute_result"
    }
   ],
   "source": [
    "# 남은 결측치 확인\n",
    "df_train.isnull().sum()"
   ]
  },
  {
   "cell_type": "code",
   "execution_count": 293,
   "id": "2dccdfeb",
   "metadata": {},
   "outputs": [
    {
     "data": {
      "text/plain": [
       "Pclass      0\n",
       "Sex         0\n",
       "Age         0\n",
       "SibSp       0\n",
       "Parch       0\n",
       "Fare        1\n",
       "Embarked    0\n",
       "dtype: int64"
      ]
     },
     "execution_count": 293,
     "metadata": {},
     "output_type": "execute_result"
    }
   ],
   "source": [
    "# 남은 결측치 확인\n",
    "df_test.isnull().sum()"
   ]
  },
  {
   "cell_type": "code",
   "execution_count": 294,
   "id": "cdd8b75a",
   "metadata": {},
   "outputs": [],
   "source": [
    "# Fare 열의 결측치는 하나이므로 평균값으로 채우기\n",
    "fare_mean = df_test['Fare'].mean()\n",
    "df_test['Fare'].fillna(fare_mean, inplace=True)"
   ]
  },
  {
   "cell_type": "code",
   "execution_count": 295,
   "id": "b8efc351",
   "metadata": {},
   "outputs": [],
   "source": [
    "# Embarked 열의 결측치는 2개밖에 안되고, 1(S) 데이터가 대부분이므로 결측치도 S로 채움\n",
    "df_train['Embarked'].fillna(1, inplace=True)"
   ]
  },
  {
   "cell_type": "code",
   "execution_count": 296,
   "id": "295ca996",
   "metadata": {},
   "outputs": [
    {
     "data": {
      "text/plain": [
       "Survived    0\n",
       "Pclass      0\n",
       "Sex         0\n",
       "Age         0\n",
       "SibSp       0\n",
       "Parch       0\n",
       "Fare        0\n",
       "Embarked    0\n",
       "dtype: int64"
      ]
     },
     "execution_count": 296,
     "metadata": {},
     "output_type": "execute_result"
    }
   ],
   "source": [
    "# 결측치가 모두 사라진 것을 확인\n",
    "df_train.isnull().sum()"
   ]
  },
  {
   "cell_type": "code",
   "execution_count": 297,
   "id": "cb58bfc1",
   "metadata": {},
   "outputs": [
    {
     "data": {
      "text/plain": [
       "Pclass      0\n",
       "Sex         0\n",
       "Age         0\n",
       "SibSp       0\n",
       "Parch       0\n",
       "Fare        0\n",
       "Embarked    0\n",
       "dtype: int64"
      ]
     },
     "execution_count": 297,
     "metadata": {},
     "output_type": "execute_result"
    }
   ],
   "source": [
    "# 결측치가 모두 사라진 것을 확인\n",
    "df_test.isnull().sum()"
   ]
  },
  {
   "cell_type": "code",
   "execution_count": 298,
   "id": "da1d20bc",
   "metadata": {},
   "outputs": [],
   "source": [
    "df_train.to_csv('train_data_changed4.csv', index=False)"
   ]
  },
  {
   "cell_type": "code",
   "execution_count": 299,
   "id": "a238b369",
   "metadata": {},
   "outputs": [],
   "source": [
    "import pandas as pd\n",
    "\n",
    "# 'Embarked' 열에 대해 원-핫 인코딩 적용\n",
    "df_train = pd.get_dummies(df_train, columns=['Embarked'])\n",
    "df_test = pd.get_dummies(df_test, columns=['Embarked'])\n",
    "\n",
    "# 열 이름 변경\n",
    "df_train.rename(columns={'Embarked_0.0': 'Embarked_0', 'Embarked_1.0': 'Embarked_1', 'Embarked_2.0': 'Embarked_2'}, inplace=True)\n",
    "df_test.rename(columns={'Embarked_0.0': 'Embarked_0', 'Embarked_1.0': 'Embarked_1', 'Embarked_2.0': 'Embarked_2'}, inplace=True)"
   ]
  },
  {
   "cell_type": "code",
   "execution_count": 300,
   "id": "e10dea17",
   "metadata": {},
   "outputs": [],
   "source": [
    "df_train.to_csv('train_data_two.csv', index=False)"
   ]
  },
  {
   "cell_type": "code",
   "execution_count": 301,
   "id": "5e10c0d3",
   "metadata": {},
   "outputs": [
    {
     "name": "stdout",
     "output_type": "stream",
     "text": [
      "Survived\n",
      "0    549\n",
      "1    342\n",
      "Name: count, dtype: int64\n"
     ]
    }
   ],
   "source": [
    "# 생존자 수 확인\n",
    "print(df_train['Survived'].value_counts()) # 549명 사망, 342명 생존"
   ]
  },
  {
   "cell_type": "code",
   "execution_count": 302,
   "id": "d73dd4ea",
   "metadata": {},
   "outputs": [
    {
     "data": {
      "image/png": "[encoded data removed]",
      "text/plain": [
       "<Figure size 600x600 with 1 Axes>"
      ]
     },
     "metadata": {},
     "output_type": "display_data"
    }
   ],
   "source": [
    "# 생존자와 사망자 비율 시각화\n",
    "plt.figure(figsize=(6,6))\n",
    "sns.countplot(x='Survived', data=df_train, palette=['blue', 'red'])\n",
    "plt.title('생존자와 사망자 수')\n",
    "plt.xlabel('상태')\n",
    "plt.ylabel('인원 수')\n",
    "\n",
    "# x축 눈금 레이블 변경\n",
    "xtick_labels = ['생존자', '사망자']\n",
    "plt.xticks([0, 1], xtick_labels)\n",
    "\n",
    "plt.show()"
   ]
  },
  {
   "cell_type": "markdown",
   "id": "08f41b32",
   "metadata": {},
   "source": [
    "### 객실 등급에 따른 생존율"
   ]
  },
  {
   "cell_type": "code",
   "execution_count": 303,
   "id": "cddee808",
   "metadata": {},
   "outputs": [
    {
     "data": {
      "image/png": "[encoded data removed]",
      "text/plain": [
       "<Figure size 640x480 with 1 Axes>"
      ]
     },
     "metadata": {},
     "output_type": "display_data"
    }
   ],
   "source": [
    "sns.barplot(x='Pclass', y='Survived', data=df_train)\n",
    "plt.title('객실 등급에 따른 생존율')\n",
    "plt.xlabel('객실 등급')\n",
    "plt.ylabel('생존율')\n",
    "\n",
    "# x축 눈금 레이블 변경\n",
    "xtick_labels = ['1등석', '2등석','3등석']\n",
    "plt.xticks([0, 1, 2], xtick_labels)\n",
    "plt.show()\n",
    "\n"
   ]
  },
  {
   "cell_type": "code",
   "execution_count": 304,
   "id": "380848f2",
   "metadata": {},
   "outputs": [
    {
     "data": {
      "image/png": "[encoded data removed]",
      "text/plain": [
       "<Figure size 800x400 with 2 Axes>"
      ]
     },
     "metadata": {},
     "output_type": "display_data"
    }
   ],
   "source": [
    "# 색상 변경\n",
    "palette_colors = {0: 'red', 1: 'green'}\n",
    "\n",
    "fig, axes = plt.subplots(1, 2, figsize=(8, 4))\n",
    "\n",
    "axes[0].set_title(\"성별 탑승자 수 \\n\", size=15)\n",
    "sns.countplot(x=\"Sex\", data=df_train, ax=axes[0])\n",
    "axes[0].set_ylim([0, 600])  # y축 범위 설정\n",
    "\n",
    "axes[1].set_title(\"성별 생존자 수 \\n\", size=15)\n",
    "sns.countplot(x=\"Sex\", hue=\"Survived\", data=train_data, ax=axes[1], palette=palette_colors)\n",
    "axes[1].legend(labels=['사망', '생존'])\n",
    "axes[1].set_ylim([0, 600])  # y축 범위 설정\n",
    "\n",
    "plt.show()"
   ]
  },
  {
   "cell_type": "code",
   "execution_count": 305,
   "id": "b61ef5a1",
   "metadata": {},
   "outputs": [
    {
     "data": {
      "image/png": "[encoded data removed]",
      "text/plain": [
       "<Figure size 640x480 with 1 Axes>"
      ]
     },
     "metadata": {},
     "output_type": "display_data"
    }
   ],
   "source": [
    "sns.barplot(x='SibSp', y='Survived', data=df_train)\n",
    "plt.title('형제/배우자 수에 따른 생존율')\n",
    "plt.xlabel('형제/배우자 수')\n",
    "plt.ylabel('생존율')\n",
    "plt.show()"
   ]
  },
  {
   "cell_type": "code",
   "execution_count": 306,
   "id": "0b8044f2",
   "metadata": {},
   "outputs": [
    {
     "data": {
      "image/png": "[encoded data removed]",
      "text/plain": [
       "<Figure size 800x400 with 2 Axes>"
      ]
     },
     "metadata": {},
     "output_type": "display_data"
    }
   ],
   "source": [
    "# 성별 데이터를 가공하여 0은 '남성', 1은 '여성'으로 변환\n",
    "train_data['Sex'] = train_data['Sex'].map({0: '남성', 1: '여성'})\n",
    "\n",
    "# 색상 설정\n",
    "palette_colors = {0: 'red', 1: 'green'}\n",
    "\n",
    "# 그래프 생성\n",
    "fig, axes = plt.subplots(1, 2, figsize=(8, 4))\n",
    "\n",
    "# 첫 번째 그래프: 성별 탑승자 수\n",
    "axes[0].set_title(\"성별별 탑승자 수 \\n\", size=15)\n",
    "sns.countplot(x=\"Sex\", data=df_train, ax=axes[0])\n",
    "axes[0].set_ylim([0, 600])  # y축 범위 설정\n",
    "axes[0].set_xlabel(\"성별\")\n",
    "axes[0].set_ylabel(\"탑승자 수\")\n",
    "\n",
    "# 두 번째 그래프: 성별 생존자 수\n",
    "axes[1].set_title(\"성별별 생존자 수 \\n\", size=15)\n",
    "sns.countplot(x=\"Sex\", hue=\"Survived\", data=df_train, ax=axes[1], palette=palette_colors)\n",
    "axes[1].legend(labels=['사망', '생존'])\n",
    "axes[1].set_ylim([0, 600])  # y축 범위 설정\n",
    "axes[1].set_xlabel(\"성별\")\n",
    "axes[1].set_ylabel(\"탑승자 수\")\n",
    "\n",
    "plt.show()"
   ]
  },
  {
   "cell_type": "code",
   "execution_count": 307,
   "id": "0bb52ee7",
   "metadata": {},
   "outputs": [
    {
     "data": {
      "image/png": "[encoded data removed]",
      "text/plain": [
       "<Figure size 1000x600 with 1 Axes>"
      ]
     },
     "metadata": {},
     "output_type": "display_data"
    }
   ],
   "source": [
    "import pandas as pd\n",
    "import matplotlib.pyplot as plt\n",
    "import seaborn as sns\n",
    "\n",
    "# 구간별로 변환할 나이의 범위와 레이블 설정\n",
    "age_bins = [0, 9, 19, 29, 39, 49, 59, 69, 79, 89]\n",
    "age_labels = [i for i in range(0, 90, 10)]\n",
    "\n",
    "# 나이를 구간별로 변환하여 새로운 열 추가\n",
    "df_train['AgeGroup'] = pd.cut(df_train['Age'], bins=age_bins, labels=age_labels, include_lowest=True)\n",
    "\n",
    "# 구간별 생존율 계산\n",
    "age_group_survived = df_train.groupby(['AgeGroup', 'Survived']).size().unstack()\n",
    "age_group_survival_rate = age_group_survived[1] / (age_group_survived[0] + age_group_survived[1])\n",
    "\n",
    "# 구간별 생존율 시각화\n",
    "plt.figure(figsize=(10,6))\n",
    "sns.barplot(x=age_group_survival_rate.index.astype(str), y=age_group_survival_rate.values)\n",
    "plt.title('나이대에 따른 생존율')\n",
    "plt.xlabel('나이대')\n",
    "plt.ylabel('생존율')\n",
    "plt.show()"
   ]
  },
  {
   "cell_type": "code",
   "execution_count": 308,
   "id": "a69582bd",
   "metadata": {},
   "outputs": [
    {
     "name": "stdout",
     "output_type": "stream",
     "text": [
      "0대 데이터 수: 66\n",
      "10대 데이터 수: 105\n",
      "20대 데이터 수: 342\n",
      "30대 데이터 수: 215\n",
      "40대 데이터 수: 89\n",
      "50대 데이터 수: 48\n",
      "60대 데이터 수: 19\n",
      "70대 데이터 수: 6\n",
      "80대 데이터 수: 1\n"
     ]
    }
   ],
   "source": [
    "# AgeGroup 데이터에서 70대와 80대 구간에 속하는 데이터의 개수 계산\n",
    "age_0_count = train_data[df_train['AgeGroup'] == 0].shape[0]\n",
    "age_10_count = train_data[df_train['AgeGroup'] == 10].shape[0]\n",
    "age_20_count = train_data[df_train['AgeGroup'] == 20].shape[0]\n",
    "age_30_count = train_data[df_train['AgeGroup'] == 30].shape[0]\n",
    "age_40_count = train_data[df_train['AgeGroup'] == 40].shape[0]\n",
    "age_50_count = train_data[df_train['AgeGroup'] == 50].shape[0]\n",
    "age_60_count = train_data[df_train['AgeGroup'] == 60].shape[0]\n",
    "age_70_count = train_data[df_train['AgeGroup'] == 70].shape[0]\n",
    "age_80_count = train_data[df_train['AgeGroup'] == 80].shape[0]\n",
    "\n",
    "\n",
    "\n",
    "print(\"0대 데이터 수:\", age_0_count)\n",
    "print(\"10대 데이터 수:\", age_10_count)\n",
    "print(\"20대 데이터 수:\", age_20_count)\n",
    "print(\"30대 데이터 수:\", age_30_count)\n",
    "print(\"40대 데이터 수:\", age_40_count)\n",
    "print(\"50대 데이터 수:\", age_50_count)\n",
    "print(\"60대 데이터 수:\", age_60_count)\n",
    "print(\"70대 데이터 수:\", age_70_count)\n",
    "print(\"80대 데이터 수:\", age_80_count)"
   ]
  },
  {
   "cell_type": "code",
   "execution_count": 309,
   "id": "7f39cb53",
   "metadata": {},
   "outputs": [
    {
     "data": {
      "image/png": "[encoded data removed]",
      "text/plain": [
       "<Figure size 640x480 with 1 Axes>"
      ]
     },
     "metadata": {},
     "output_type": "display_data"
    }
   ],
   "source": [
    "sns.barplot(x='Parch', y='Survived', data=df_train)\n",
    "plt.title('형제/배우자 수에 따른 생존율')\n",
    "plt.xlabel('형제/배우자 수')\n",
    "plt.ylabel('생존율')\n",
    "plt.show()"
   ]
  },
  {
   "cell_type": "code",
   "execution_count": 310,
   "id": "8124819b",
   "metadata": {},
   "outputs": [
    {
     "data": {
      "image/png": "[encoded data removed]",
      "text/plain": [
       "<Figure size 1000x600 with 1 Axes>"
      ]
     },
     "metadata": {},
     "output_type": "display_data"
    }
   ],
   "source": [
    "plt.figure(figsize=(10,6))\n",
    "sns.histplot(x='Fare', data=df_train, bins=30, kde=True)\n",
    "plt.title('요금 분포')\n",
    "plt.show()"
   ]
  },
  {
   "cell_type": "code",
   "execution_count": 311,
   "id": "c98f1726",
   "metadata": {},
   "outputs": [
    {
     "data": {
      "image/png": "[encoded data removed]",
      "text/plain": [
       "<Figure size 600x600 with 1 Axes>"
      ]
     },
     "metadata": {},
     "output_type": "display_data"
    }
   ],
   "source": [
    "import matplotlib.pyplot as plt\n",
    "import seaborn as sns\n",
    "\n",
    "# 각 승선 항구별 생존율 계산\n",
    "embarked_survived = df_train.groupby(['Embarked_0', 'Embarked_1', 'Embarked_2'])['Survived'].mean()\n",
    "\n",
    "# 튜플로 인덱스 변경\n",
    "embarked_survived.index = embarked_survived.index.map(lambda x: tuple(map(int, x)))\n",
    "\n",
    "# 승선 항구에 따른 생존율 시각화\n",
    "plt.figure(figsize=(6,6))\n",
    "sns.barplot(x=[str(x) for x in embarked_survived.index], y=embarked_survived.values)\n",
    "plt.title('승선 항구에 따른 생존율')\n",
    "plt.xlabel('승선 항구')\n",
    "plt.ylabel('생존율')\n",
    "xtick_labels = [' Cherbourg', 'Queenstown', 'Southampton']\n",
    "plt.xticks([0, 1, 2], xtick_labels)\n",
    "plt.show()"
   ]
  },
  {
   "cell_type": "code",
   "execution_count": 312,
   "id": "4a1ba9ad",
   "metadata": {},
   "outputs": [
    {
     "name": "stdout",
     "output_type": "stream",
     "text": [
      "(891, 10) (891,)\n"
     ]
    }
   ],
   "source": [
    "train_input = df_train.drop('Survived', axis=1).values\n",
    "train_target = df_train['Survived'].values\n",
    "print(train_input.shape, train_target.shape)  #(891, 8) (891,)"
   ]
  },
  {
   "cell_type": "code",
   "execution_count": 313,
   "id": "ad281294",
   "metadata": {},
   "outputs": [],
   "source": [
    "df_train.to_csv('train_data_before_model5.csv', index=False)"
   ]
  },
  {
   "cell_type": "code",
   "execution_count": 314,
   "id": "dd08fc04",
   "metadata": {
    "scrolled": true
   },
   "outputs": [],
   "source": [
    "from sklearn.preprocessing import StandardScaler\n",
    "\n",
    "# 스케일링할 변수 선택\n",
    "numerical_features = ['Age', 'Fare', 'Pclass']\n",
    "# 스케일링을 위한 StandardScaler 객체 생성\n",
    "scaler = StandardScaler()\n",
    "\n",
    "# 훈련 데이터에 대해 스케일링을 수행하고 변환\n",
    "X_train_scaled = scaler.fit_transform(X_train[numerical_features])\n",
    "\n",
    "# 테스트 데이터에 대해 스케일링을 수행하고 변환\n",
    "X_test_scaled = scaler.transform(X_test[numerical_features])\n",
    "\n",
    "# 스케일링된 데이터를 원본 데이터프레임에 다시 할당\n",
    "X_train[numerical_features] = X_train_scaled\n",
    "X_test[numerical_features] = X_test_scaled"
   ]
  },
  {
   "cell_type": "markdown",
   "id": "d92f1445",
   "metadata": {},
   "source": [
    "### KNN 최근접 분류"
   ]
  },
  {
   "cell_type": "code",
   "execution_count": 315,
   "id": "35537238",
   "metadata": {
    "scrolled": true
   },
   "outputs": [
    {
     "name": "stdout",
     "output_type": "stream",
     "text": [
      "Cross-validation scores:\n",
      "Train score: 0.8289691623788021\n",
      "Validation score: 0.7291437549096622\n",
      "Validation set score: 0.7399103139013453\n"
     ]
    }
   ],
   "source": [
    "from sklearn.neighbors import KNeighborsClassifier\n",
    "from sklearn.model_selection import train_test_split\n",
    "from sklearn.metrics import accuracy_score\n",
    "from sklearn.model_selection import cross_validate\n",
    "from sklearn.model_selection import StratifiedKFold\n",
    "\n",
    "# 훈련 데이터와 테스트 데이터 분리\n",
    "target = df_train['Survived']\n",
    "train_input, test_input, train_target, test_target = train_test_split(\n",
    "    df_train, target, random_state=1)\n",
    "\n",
    "# KNeighborsClassifier 모델 초기화\n",
    "kn = KNeighborsClassifier()\n",
    "\n",
    "# 교차 검증을 위한 StratifiedKFold 객체 생성\n",
    "kfold = StratifiedKFold(n_splits=5)\n",
    "\n",
    "# 교차 검증 수행\n",
    "score = cross_validate(kn, train_input, train_target,\n",
    "                       return_train_score=True, n_jobs=-1,\n",
    "                       cv=kfold)\n",
    "\n",
    "# 훈련 세트와 검증 세트의 평균 점수 출력\n",
    "print(\"Cross-validation scores:\")\n",
    "print(\"Train score:\", np.mean(score['train_score']))\n",
    "print(\"Validation score:\", np.mean(score['test_score']))\n",
    "\n",
    "# 추가로 validation 세트를 사용하여 모델을 검증\n",
    "kn.fit(train_input, train_target)\n",
    "val_score = kn.score(test_input, test_target)\n",
    "print(\"Validation set score:\", val_score)"
   ]
  },
  {
   "cell_type": "code",
   "execution_count": 316,
   "id": "8644417a",
   "metadata": {},
   "outputs": [
    {
     "name": "stdout",
     "output_type": "stream",
     "text": [
      "Precision: 0.820627802690583\n",
      "Recall: 0.7408906882591093\n",
      "F1-score: 0.7787234042553192\n"
     ]
    }
   ],
   "source": [
    "from sklearn.metrics import precision_score, recall_score, f1_score\n",
    "\n",
    "# 예측 결과 출력\n",
    "kn.fit(train_input, train_target)\n",
    "pred_train = kn.predict(train_input)\n",
    "pred_test = kn.predict(test_input)\n",
    "\n",
    "# 각 평가 지표 계산\n",
    "precision = precision_score(train_target, pred_train)\n",
    "recall = recall_score(train_target, pred_train)\n",
    "f1 = f1_score(train_target, pred_train)\n",
    "\n",
    "print(\"Precision:\", precision)\n",
    "print(\"Recall:\", recall)\n",
    "print(\"F1-score:\", f1)\n"
   ]
  },
  {
   "cell_type": "code",
   "execution_count": 317,
   "id": "6c1f1be2",
   "metadata": {},
   "outputs": [
    {
     "data": {
      "image/png": "[encoded data removed]",
      "text/plain": [
       "<Figure size 640x480 with 1 Axes>"
      ]
     },
     "metadata": {},
     "output_type": "display_data"
    }
   ],
   "source": [
    "# 학습 곡선\n",
    "import matplotlib.pyplot as plt\n",
    "from sklearn.model_selection import learning_curve\n",
    "\n",
    "train_sizes, train_scores, test_scores = learning_curve(\n",
    "    kn, train_input, train_target, cv=5, n_jobs=-1)\n",
    "\n",
    "train_mean = np.mean(train_scores, axis=1)\n",
    "train_std = np.std(train_scores, axis=1)\n",
    "test_mean = np.mean(test_scores, axis=1)\n",
    "test_std = np.std(test_scores, axis=1)\n",
    "\n",
    "plt.plot(train_sizes, train_mean, label='Training score')\n",
    "plt.plot(train_sizes, test_mean, label='Cross-validation score')\n",
    "plt.fill_between(train_sizes, train_mean - train_std,\n",
    "                 train_mean + train_std, alpha=0.15)\n",
    "plt.fill_between(train_sizes, test_mean - test_std,\n",
    "                 test_mean + test_std, alpha=0.15)\n",
    "plt.title('Learning curve')\n",
    "plt.xlabel('Training set size')\n",
    "plt.ylabel('Score')\n",
    "plt.legend(loc='best')\n",
    "plt.show()"
   ]
  },
  {
   "cell_type": "code",
   "execution_count": 318,
   "id": "6a8c410c",
   "metadata": {},
   "outputs": [
    {
     "name": "stdout",
     "output_type": "stream",
     "text": [
      "Best parameters: {'n_neighbors': 3}\n",
      "Best cross-validation score: 0.7366401077320165\n"
     ]
    }
   ],
   "source": [
    "# 하이퍼파라미터 튜닝\n",
    "from sklearn.model_selection import GridSearchCV\n",
    "\n",
    "# 하이퍼파라미터 그리드 준비\n",
    "param_grid = {'n_neighbors': [3, 5, 7, 9, 11]}\n",
    "\n",
    "# 그리드 검색 수행\n",
    "grid_search = GridSearchCV(kn, param_grid, cv=5, scoring='accuracy')\n",
    "grid_search.fit(train_input, train_target)\n",
    "\n",
    "print(\"Best parameters:\", grid_search.best_params_)\n",
    "print(\"Best cross-validation score:\", grid_search.best_score_)"
   ]
  },
  {
   "cell_type": "markdown",
   "id": "a9b74438",
   "metadata": {},
   "source": [
    "### Decision Tree"
   ]
  },
  {
   "cell_type": "code",
   "execution_count": 319,
   "id": "a27e855c",
   "metadata": {},
   "outputs": [
    {
     "name": "stdout",
     "output_type": "stream",
     "text": [
      "Best Hyperparameters for Decision Tree: {'max_depth': 5, 'min_samples_leaf': 2, 'min_samples_split': 10}\n",
      "Optimized Decision Tree Model Accuracy on Test Set: 0.8045\n"
     ]
    }
   ],
   "source": [
    "from sklearn.tree import DecisionTreeClassifier\n",
    "from sklearn.model_selection import train_test_split, GridSearchCV\n",
    "from sklearn.metrics import accuracy_score\n",
    "\n",
    "# 특성 선택\n",
    "features = ['Pclass', 'Sex', 'Age', 'Fare']\n",
    "\n",
    "# 훈련 데이터와 테스트 데이터 분할\n",
    "X_train, X_test, y_train, y_test = train_test_split(df_train[features], df_train['Survived'], test_size=0.2, random_state=42)\n",
    "\n",
    "# 결정 트리 모델 생성\n",
    "dt_model = DecisionTreeClassifier(random_state=42)\n",
    "\n",
    "# 탐색할 하이퍼파라미터 값들 정의\n",
    "param_grid = {\n",
    "    'max_depth': [None, 5, 10, 15],\n",
    "    'min_samples_split': [2, 5, 10],\n",
    "    'min_samples_leaf': [1, 2, 4]\n",
    "}\n",
    "\n",
    "# GridSearchCV를 사용하여 최적의 하이퍼파라미터 찾기\n",
    "grid_search_dt = GridSearchCV(dt_model, param_grid, cv=5, scoring='accuracy')\n",
    "grid_search_dt.fit(X_train, y_train)\n",
    "\n",
    "# 최적의 하이퍼파라미터 출력\n",
    "best_params_dt = grid_search_dt.best_params_\n",
    "print(f'Best Hyperparameters for Decision Tree: {best_params_dt}')\n",
    "\n",
    "# 테스트 데이터로 예측\n",
    "y_pred_dt_test = grid_search_dt.predict(X_test)\n",
    "\n",
    "# 정확도 평가\n",
    "accuracy_dt_test = accuracy_score(y_test, y_pred_dt_test)\n",
    "print(f'Optimized Decision Tree Model Accuracy on Test Set: {accuracy_dt_test:.4f}')"
   ]
  },
  {
   "cell_type": "code",
   "execution_count": 320,
   "id": "e80983bd",
   "metadata": {},
   "outputs": [
    {
     "name": "stdout",
     "output_type": "stream",
     "text": [
      "Precision: 1.0\n",
      "Recall: 1.0\n",
      "F1-score: 1.0\n"
     ]
    }
   ],
   "source": [
    "from sklearn.metrics import precision_score, recall_score, f1_score\n",
    "\n",
    "# 예측 결과 출력\n",
    "dt_model.fit(train_input, train_target)\n",
    "pred_train = dt_model.predict(train_input)\n",
    "pred_test = dt_model.predict(test_input)\n",
    "\n",
    "# 각 평가 지표 계산\n",
    "precision = precision_score(train_target, pred_train)\n",
    "recall = recall_score(train_target, pred_train)\n",
    "f1 = f1_score(train_target, pred_train)\n",
    "\n",
    "print(\"Precision:\", precision)\n",
    "print(\"Recall:\", recall)\n",
    "print(\"F1-score:\", f1)\n"
   ]
  },
  {
   "cell_type": "code",
   "execution_count": 322,
   "id": "beb1a150",
   "metadata": {},
   "outputs": [],
   "source": [
    "# train 데이터와 test 데이터에서 사용할 특성 선택\n",
    "train_features = ['Pclass', 'Sex', 'Age', 'Fare', 'Embarked_0', 'Embarked_1', 'Embarked_2', 'Parch', 'SibSp']\n",
    "test_features = ['Pclass', 'Sex', 'Age', 'Fare', 'Embarked_0', 'Embarked_1', 'Embarked_2', 'Parch', 'SibSp']\n",
    "\n",
    "# train 데이터와 test 데이터에서 선택된 특성만을 사용하여 데이터를 추출\n",
    "X_train = df_train[train_features]\n",
    "y_train = df_train['Survived']\n",
    "X_test = df_test[test_features]\n",
    "\n",
    "# 모델 훈련\n",
    "grid_search_dt.fit(X_train, y_train)\n",
    "\n",
    "# 테스트 데이터에 대한 예측\n",
    "y_pred_dt_test = grid_search_dt.predict(X_test)\n",
    "\n",
    "# test 데이터의 PassengerId 가져오기\n",
    "passenger_ids = test_data['PassengerId']\n",
    "\n",
    "# 예측 결과를 DataFrame으로 변환\n",
    "submission = pd.DataFrame({\n",
    "    'PassengerId': passenger_ids,\n",
    "    'Survived': y_pred_dt_test\n",
    "})\n",
    "\n",
    "# submission.csv 파일로 저장\n",
    "submission.to_csv('submission3.csv', index=False)"
   ]
  },
  {
   "cell_type": "code",
   "execution_count": null,
   "id": "abe99683",
   "metadata": {},
   "outputs": [],
   "source": []
  },
  {
   "cell_type": "code",
   "execution_count": null,
   "id": "85822060",
   "metadata": {},
   "outputs": [],
   "source": []
  }
 ],
 "metadata": {
  "kernelspec": {
   "display_name": "Python 3 (ipykernel)",
   "language": "python",
   "name": "python3"
  },
  "language_info": {
   "codemirror_mode": {
    "name": "ipython",
    "version": 3
   },
   "file_extension": ".py",
   "mimetype": "text/x-python",
   "name": "python",
   "nbconvert_exporter": "python",
   "pygments_lexer": "ipython3",
   "version": "3.11.4"
  }
 },
 "nbformat": 4,
 "nbformat_minor": 5
}
